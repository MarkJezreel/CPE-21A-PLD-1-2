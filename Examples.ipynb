{
  "nbformat": 4,
  "nbformat_minor": 0,
  "metadata": {
    "colab": {
      "provenance": [],
      "authorship_tag": "ABX9TyOYTFbXkZoKBBqo4BZvipS6",
      "include_colab_link": true
    },
    "kernelspec": {
      "name": "python3",
      "display_name": "Python 3"
    },
    "language_info": {
      "name": "python"
    }
  },
  "cells": [
    {
      "cell_type": "markdown",
      "metadata": {
        "id": "view-in-github",
        "colab_type": "text"
      },
      "source": [
        "<a href=\"https://colab.research.google.com/github/MarkJezreel/CPE-21A-PLD-1-2/blob/main/Examples.ipynb\" target=\"_parent\"><img src=\"https://colab.research.google.com/assets/colab-badge.svg\" alt=\"Open In Colab\"/></a>"
      ]
    },
    {
      "cell_type": "markdown",
      "source": [
        "Example 1"
      ],
      "metadata": {
        "id": "b9yZKN1gHCkL"
      }
    },
    {
      "cell_type": "code",
      "execution_count": null,
      "metadata": {
        "id": "e9zCOQ-oE4dL"
      },
      "outputs": [],
      "source": [
        "print(\"Qualified Voter Age App\")\n",
        "try:\n",
        "  age = int(input(\"Enter your age: \"))\n",
        "\n",
        "  if age >= 18:\n",
        "    print(\"You're qualified to vote!\")\n",
        "  else: \n",
        "    print(\"Sorry to inform, you're not qualified to vote.\")  \n",
        "  \n",
        "except:\n",
        "  print(\"Please enter a number only not a letter or symbol\")"
      ]
    },
    {
      "cell_type": "markdown",
      "source": [
        "Example 2"
      ],
      "metadata": {
        "id": "qXdSuwbJHHPb"
      }
    },
    {
      "cell_type": "code",
      "source": [
        "print(\"Type of number app\")\n",
        "\n",
        "try:\n",
        "  num = int(input(\"Enter a number: \"))\n",
        "\n",
        "  if num < 0:\n",
        "    print(\"It is a negative number\")\n",
        "  elif num == 0:\n",
        "    print(\"It is a zero\")\n",
        "  else:\n",
        "    print(\"It is a positive number\")\n",
        "\n",
        "except:\n",
        "  print(\"Please enter a number only not a letter or symbol\")"
      ],
      "metadata": {
        "id": "HRbIAFXfHImK"
      },
      "execution_count": null,
      "outputs": []
    },
    {
      "cell_type": "markdown",
      "source": [
        "Example 3"
      ],
      "metadata": {
        "id": "-G9hz7ZCKxQc"
      }
    },
    {
      "cell_type": "code",
      "source": [
        "print(\"Interpretation grade app\")\n",
        "try:\n",
        "  grade = int(input(\"Enter your grades: \"))\n",
        "\n",
        "  if grade >= 75:\n",
        "      print(\"You're Passed!\")\n",
        "  elif grade == 74:\n",
        "      print(\"You're going to remedial. Keep it up!\")  \n",
        "  elif grade < 74 and grade >= 0:\n",
        "      print(\"Do not give up! Let's start again\")\n",
        "  elif grade < 0:\n",
        "      print(\"Don't input negative numbers and decimals\")\n",
        "\n",
        "except:\n",
        "  print(\"Please put a number only not a letter or symbol\")"
      ],
      "metadata": {
        "id": "N30nSQzMKzEz"
      },
      "execution_count": null,
      "outputs": []
    }
  ]
}