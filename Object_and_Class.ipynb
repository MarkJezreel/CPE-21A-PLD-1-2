{
  "nbformat": 4,
  "nbformat_minor": 0,
  "metadata": {
    "colab": {
      "provenance": [],
      "authorship_tag": "ABX9TyMLawKjZqq5kl/Ce4QRWBbL",
      "include_colab_link": true
    },
    "kernelspec": {
      "name": "python3",
      "display_name": "Python 3"
    },
    "language_info": {
      "name": "python"
    }
  },
  "cells": [
    {
      "cell_type": "markdown",
      "metadata": {
        "id": "view-in-github",
        "colab_type": "text"
      },
      "source": [
        "<a href=\"https://colab.research.google.com/github/MarkJezreel/CPE-21A-PLD-1-2/blob/main/Object_and_Class.ipynb\" target=\"_parent\"><img src=\"https://colab.research.google.com/assets/colab-badge.svg\" alt=\"Open In Colab\"/></a>"
      ]
    },
    {
      "cell_type": "code",
      "execution_count": 2,
      "metadata": {
        "colab": {
          "base_uri": "https://localhost:8080/"
        },
        "id": "M7GA46BIs9wX",
        "outputId": "b5ff22b2-dd7d-4760-d13b-b4dd3b9257ad"
      },
      "outputs": [
        {
          "output_type": "stream",
          "name": "stdout",
          "text": [
            "500\n",
            "90\n"
          ]
        }
      ],
      "source": [
        "class Shape:\n",
        "  def __init__(shape,length,width):\n",
        "    shape.length = length\n",
        "    shape.width = width \n",
        "\n",
        "  def Area (shape):\n",
        "    return shape.length*shape.width\n",
        "\n",
        "  def Perimeter (shape):\n",
        "    return (shape.length+shape.width)*2\n",
        "  \n",
        "class Rectangle(Shape):\n",
        "   pass\n",
        "\n",
        "rectangle = Rectangle (20,25)\n",
        "\n",
        "print(rectangle.Area())\n",
        "print(rectangle.Perimeter())"
      ]
    }
  ]
}