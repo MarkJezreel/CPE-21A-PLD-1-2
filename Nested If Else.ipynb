{
  "nbformat": 4,
  "nbformat_minor": 0,
  "metadata": {
    "colab": {
      "provenance": [],
      "authorship_tag": "ABX9TyO6TIs6nnPWjF4UvhVpA3Kz",
      "include_colab_link": true
    },
    "kernelspec": {
      "name": "python3",
      "display_name": "Python 3"
    },
    "language_info": {
      "name": "python"
    }
  },
  "cells": [
    {
      "cell_type": "markdown",
      "metadata": {
        "id": "view-in-github",
        "colab_type": "text"
      },
      "source": [
        "<a href=\"https://colab.research.google.com/github/MarkJezreel/CPE-21A-PLD-1-2/blob/main/Nested%20If%20Else.ipynb\" target=\"_parent\"><img src=\"https://colab.research.google.com/assets/colab-badge.svg\" alt=\"Open In Colab\"/></a>"
      ]
    },
    {
      "cell_type": "markdown",
      "source": [
        "Nested If Else"
      ],
      "metadata": {
        "id": "iKh8RaJFC96a"
      }
    },
    {
      "cell_type": "code",
      "source": [
        "x = int(input(\"Enter a number: \"))\n",
        "if x > 10:\n",
        "    print(\"Above 10\") \n",
        "    if x < 20:\n",
        "      print(\"Below 20\")\n",
        "    else:\n",
        "      print(\"Above 20\")\n",
        "      if x < 30:\n",
        "        print(\"Below 30\")\n",
        "      else:\n",
        "        print(\"Above 30\")\n",
        "        if x < 40:\n",
        "          print(\"Below 40\")\n",
        "        else: \n",
        "          print(\"Above 40\")\n",
        "          if x < 50:\n",
        "            print(\"Below 50\")\n",
        "          else:\n",
        "            print(\"Above 50\")\n",
        "\n",
        "else:\n",
        "  print(\"Below 10\")"
      ],
      "metadata": {
        "colab": {
          "base_uri": "https://localhost:8080/"
        },
        "id": "mXs08mUPDB61",
        "outputId": "e466ca42-3fe5-4223-fcdf-c450367dfa12"
      },
      "execution_count": 5,
      "outputs": [
        {
          "output_type": "stream",
          "name": "stdout",
          "text": [
            "Enter a number: 49\n",
            "Above 10\n",
            "Above 20\n",
            "Above 30\n",
            "Above 40\n",
            "Below 50\n"
          ]
        }
      ]
    }
  ]
}